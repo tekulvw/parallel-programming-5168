{
 "cells": [
  {
   "cell_type": "markdown",
   "metadata": {},
   "source": [
    "# Shared code"
   ]
  },
  {
   "cell_type": "code",
   "execution_count": null,
   "metadata": {},
   "outputs": [],
   "source": [
    "import os\n",
    "import time\n",
    "import numpy as np\n",
    "import multiprocessing\n",
    "from pylab import imshow, show\n",
    "from timeit import default_timer as timer"
   ]
  },
  {
   "cell_type": "code",
   "execution_count": null,
   "metadata": {},
   "outputs": [],
   "source": [
    "def mandel(x, y, max_iters):\n",
    "    \"\"\"\n",
    "    Given the real and imaginary parts of a complex number,\n",
    "    determine if it is a candidate for membership in the Mandelbrot\n",
    "    set given a fixed number of iterations.\n",
    "    \"\"\"\n",
    "    c = complex(x, y)\n",
    "    z = 0.0j\n",
    "    for i in range(max_iters):\n",
    "        z = z*z + c\n",
    "        if (z.real*z.real + z.imag*z.imag) >= 4:\n",
    "            return i\n",
    "\n",
    "    return max_iters"
   ]
  },
  {
   "cell_type": "markdown",
   "metadata": {},
   "source": [
    "# Sequential code"
   ]
  },
  {
   "cell_type": "code",
   "execution_count": null,
   "metadata": {},
   "outputs": [],
   "source": [
    "def create_fractal(min_x, max_x, min_y, max_y, image, iters):\n",
    "    height = image.shape[0]\n",
    "    width = image.shape[1]\n",
    "\n",
    "    pixel_size_x = (max_x - min_x) / width\n",
    "    pixel_size_y = (max_y - min_y) / height\n",
    "    \n",
    "    for x in range(width):\n",
    "        real = min_x + x * pixel_size_x\n",
    "        for y in range(height):\n",
    "            imag = min_y + y * pixel_size_y\n",
    "            color = mandel(real, imag, iters)\n",
    "            image[y, x] = color"
   ]
  },
  {
   "cell_type": "code",
   "execution_count": null,
   "metadata": {},
   "outputs": [],
   "source": [
    "def run_sequential(height, width):\n",
    "    image = np.zeros((height, width), dtype = np.uint8)\n",
    "    start = timer()\n",
    "    create_fractal(-2.0, 1.0, -1.0, 1.0, image, 20) \n",
    "    dt = timer() - start\n",
    "\n",
    "    print(f\"Mandelbrot created in {dt} s\")\n",
    "    imshow(image)\n",
    "    show()"
   ]
  },
  {
   "cell_type": "markdown",
   "metadata": {},
   "source": [
    "# Parallel code"
   ]
  },
  {
   "cell_type": "code",
   "execution_count": null,
   "metadata": {},
   "outputs": [],
   "source": [
    "def create_fractal(min_x, max_x, min_y, max_y, image, width, start_idx, stop_idx, iters, event):\n",
    "    event.wait()\n",
    "    pid = os.getpid()\n",
    "    \n",
    "    print(f\"PID {pid} starting with {stop_idx - start_idx} points\")\n",
    "\n",
    "    pixel_size_x = (max_x - min_x) / width\n",
    "    pixel_size_y = (max_y - min_y) / (len(image) // width)\n",
    "    \n",
    "    for i in range(start_idx, stop_idx):\n",
    "        x = i % width\n",
    "        y = i // width\n",
    "        \n",
    "        real = min_x + x * pixel_size_x\n",
    "        imag = min_y + y * pixel_size_y\n",
    "        color = mandel(real, imag, iters)\n",
    "        image[x + y * width] = color\n",
    "    \n",
    "    print(f\"PID {pid} complete\")"
   ]
  },
  {
   "cell_type": "code",
   "execution_count": null,
   "metadata": {},
   "outputs": [],
   "source": [
    "def run_parallel(height, width, num_cores):\n",
    "    image = multiprocessing.Array('B', height * width, lock=False)\n",
    "    pixels_per_core = len(image) // num_cores\n",
    "    start_event = multiprocessing.Event()\n",
    "    procs = []\n",
    "    for i in range(num_cores):\n",
    "        start = i * pixels_per_core\n",
    "        stop = start + pixels_per_core\n",
    "\n",
    "        p = multiprocessing.Process(target=create_fractal, args=(-2.0, 1.0, -1.0, 1.0, image, width, start, stop, 20, start_event))\n",
    "        p.start()\n",
    "        procs.append(p)\n",
    "\n",
    "    time.sleep(5)  # Give some time for all processes to start\n",
    "\n",
    "    start = timer()\n",
    "    start_event.set()\n",
    "    for p in procs:\n",
    "        p.join()\n",
    "    dt = timer() - start\n",
    "\n",
    "    print(f\"Mandelbrot created in {dt} s\")\n",
    "\n",
    "    image = np.reshape(image, (height, width))\n",
    "    imshow(image)\n",
    "    show()"
   ]
  },
  {
   "cell_type": "markdown",
   "metadata": {},
   "source": [
    "# Analysis\n",
    "\n",
    "The sequential and parallel versions were both run on a Pitzer Jupyter instance with 32 cores and 188GB ram.\n",
    "Each code version was tested with Mandelbrot resolutions of 1024x1536 and 10240x15360.\n",
    "As seen below, there is a marked improvement in run times when comparing sequential to parallel.\n",
    "The parallel code was initally run with 40 processes, since the system monitor displayed 40 available cores.\n",
    "However, when the process count was reduced to 32 (the number of cores indicated by the OSC instance launcher), the calculation time was actually reduced by 0.5 seconds for the high resolution test."
   ]
  },
  {
   "cell_type": "markdown",
   "metadata": {},
   "source": [
    "| Type | Height | Width | Pixel Count | Worker Count | Run Time | Improvement |\n",
    "|------|--------|-------|-------------|--------------|----------|-------------|\n",
    "|Sequential|1024|1536|1,572,864‬|1|3.837|--|\n",
    "|Parallel|1024|1536|1,572,864‬|32|0.247|1,553%|\n",
    "|Sequential|10240|15360|‭157,286,400‬|1|368.441|--|\n",
    "|Parallel|10240|15360|‭157,286,400‬|32|19.457|1,894%|"
   ]
  },
  {
   "cell_type": "markdown",
   "metadata": {},
   "source": [
    "To parallelize this problem, I allocated a 1D array that represented the full resolution image in shared memory and each process was spawned with a reference to this memory.\n",
    "Each process was given a subset of the full array to work on such that no process had any overlapping work with any other.\n",
    "The first time I ran this code I actually saw an almost 2 minute increase in the parallel version over the sequential version.\n",
    "As it turns out, Python's `multiprocessing` module's shared memory `Array` has a rw lock by default to help prevent accidental parallel data accesses.\n",
    "After disabling that lock, the time to process in parallel dropped from >490 seconds to the final result of approximately 19.5 seconds."
   ]
  }
 ],
 "metadata": {
  "kernelspec": {
   "display_name": "Python 3",
   "language": "python",
   "name": "python3"
  },
  "language_info": {
   "codemirror_mode": {
    "name": "ipython",
    "version": 3
   },
   "file_extension": ".py",
   "mimetype": "text/x-python",
   "name": "python",
   "nbconvert_exporter": "python",
   "pygments_lexer": "ipython3",
   "version": "3.7.3"
  }
 },
 "nbformat": 4,
 "nbformat_minor": 4
}
