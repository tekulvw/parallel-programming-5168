{
 "cells": [
  {
   "cell_type": "code",
   "execution_count": 20,
   "metadata": {},
   "outputs": [],
   "source": [
    "import os\n",
    "import time\n",
    "import numpy as np\n",
    "import multiprocessing\n",
    "from pylab import imshow, show\n",
    "from timeit import default_timer as timer"
   ]
  },
  {
   "cell_type": "code",
   "execution_count": 2,
   "metadata": {},
   "outputs": [],
   "source": [
    "def mandel(x, y, max_iters):\n",
    "    \"\"\"\n",
    "    Given the real and imaginary parts of a complex number,\n",
    "    determine if it is a candidate for membership in the Mandelbrot\n",
    "    set given a fixed number of iterations.\n",
    "    \"\"\"\n",
    "    c = complex(x, y)\n",
    "    z = 0.0j\n",
    "    for i in range(max_iters):\n",
    "        z = z*z + c\n",
    "        if (z.real*z.real + z.imag*z.imag) >= 4:\n",
    "            return i\n",
    "\n",
    "    return max_iters"
   ]
  },
  {
   "cell_type": "code",
   "execution_count": 18,
   "metadata": {},
   "outputs": [],
   "source": [
    "def create_fractal(min_x, max_x, min_y, max_y, image, width, start_idx, stop_idx, iters, event):\n",
    "    event.wait()\n",
    "    pid = os.getpid()\n",
    "    \n",
    "    print(f\"PID {pid} starting with {stop_idx - start_idx} points\")\n",
    "\n",
    "    pixel_size_x = (max_x - min_x) / width\n",
    "    pixel_size_y = (max_y - min_y) / (len(image) // width)\n",
    "    \n",
    "    for i in range(start_idx, stop_idx):\n",
    "        x = i % width\n",
    "        y = i // width\n",
    "        \n",
    "        real = min_x + x * pixel_size_x\n",
    "        imag = min_y + y * pixel_size_y\n",
    "        color = mandel(real, imag, iters)\n",
    "        image[x + y * width] = color\n",
    "    \n",
    "    print(f\"PID {pid} complete\")"
   ]
  },
  {
   "cell_type": "code",
   "execution_count": 22,
   "metadata": {},
   "outputs": [],
   "source": [
    "num_cores = 32\n",
    "height = 10240\n",
    "width = 15360\n",
    "# image = np.zeros((1024, 1536), dtype = np.uint8)\n",
    "image = multiprocessing.Array('B', height * width, lock=False)\n",
    "pixels_per_core = len(image) // num_cores\n",
    "start_event = multiprocessing.Event()"
   ]
  },
  {
   "cell_type": "code",
   "execution_count": 23,
   "metadata": {},
   "outputs": [
    {
     "name": "stdout",
     "output_type": "stream",
     "text": [
      "PID 33993 starting with 4915200 points\n",
      "PID 33973 starting with 4915200 points\n",
      "PID 33983 starting with 4915200 points\n",
      "PID 33987 starting with 4915200 points\n",
      "PID 33982 starting with 4915200 points\n",
      "PID 33976 starting with 4915200 points\n",
      "PID 33988 starting with 4915200 points\n",
      "PID 33991 starting with 4915200 points\n",
      "PID 33989 starting with 4915200 points\n",
      "PID 33980 starting with 4915200 points\n",
      "PID 33994 starting with 4915200 points\n",
      "PID 33995 starting with 4915200 points\n",
      "PID 33975 starting with 4915200 points\n",
      "PID 33986 starting with 4915200 points\n",
      "PID 33981 starting with 4915200 points\n",
      "PID 33997 starting with 4915200 points\n",
      "PID 33996 starting with 4915200 points\n",
      "PID 33984 starting with 4915200 points\n",
      "PID 33974 starting with 4915200 points\n",
      "PID 33977 starting with 4915200 points\n",
      "PID 33992 starting with 4915200 points\n",
      "PID 33998 starting with 4915200 points\n",
      "PID 33990 starting with 4915200 points\n",
      "PID 33985 starting with 4915200 points\n",
      "PID 33979 starting with 4915200 points\n",
      "PID 34003 starting with 4915200 points\n",
      "PID 33999 starting with 4915200 points\n",
      "PID 34000 starting with 4915200 points\n",
      "PID 34002 starting with 4915200 points\n",
      "PID 34001 starting with 4915200 points\n",
      "PID 34004 starting with 4915200 points\n",
      "PID 33978 starting with 4915200 points\n",
      "PID34004 complete\n",
      "PID33974 complete\n",
      "PID33973 complete\n",
      "PID34002 complete\n",
      "PID34003 complete\n",
      "PID34001 complete\n",
      "PID34000 complete\n",
      "PID33975 complete\n",
      "PID33976 complete\n",
      "PID33977 complete\n",
      "PID33999 complete\n",
      "PID33978 complete\n",
      "PID33979 complete\n",
      "PID33998 complete\n",
      "PID33980 complete\n",
      "PID33997 complete\n",
      "PID33981 complete\n",
      "PID33996 complete\n",
      "PID33983 complete\n",
      "PID33982 complete\n",
      "PID33994 complete\n",
      "PID33995 complete\n",
      "PID33984 complete\n",
      "PID33985 complete\n",
      "PID33986 complete\n",
      "PID33993 complete\n",
      "PID33992 complete\n",
      "PID33988 complete\n",
      "PID33989 complete\n",
      "PID33991 complete\n",
      "PID33987 complete\n",
      "PID33990 complete\n",
      "Mandelbrot created in 19.457317903637886 s\n"
     ]
    },
    {
     "data": {
      "image/png": "[encoded data removed]",
      "text/plain": [
       "<Figure size 432x288 with 1 Axes>"
      ]
     },
     "metadata": {
      "needs_background": "light"
     },
     "output_type": "display_data"
    }
   ],
   "source": [
    "procs = []\n",
    "for i in range(num_cores):\n",
    "    start = i * pixels_per_core\n",
    "    stop = start + pixels_per_core\n",
    "\n",
    "    p = multiprocessing.Process(target=create_fractal, args=(-2.0, 1.0, -1.0, 1.0, image, width, start, stop, 20, start_event))\n",
    "    p.start()\n",
    "    procs.append(p)\n",
    "    \n",
    "time.sleep(5)\n",
    "\n",
    "start = timer()\n",
    "start_event.set()\n",
    "for p in procs:\n",
    "    p.join()\n",
    "dt = timer() - start\n",
    "\n",
    "print(f\"Mandelbrot created in {dt} s\")\n",
    "\n",
    "image = np.reshape(image, (height, width))\n",
    "imshow(image)\n",
    "show()"
   ]
  },
  {
   "cell_type": "code",
   "execution_count": 15,
   "metadata": {},
   "outputs": [
    {
     "name": "stdout",
     "output_type": "stream",
     "text": [
      "40\n"
     ]
    }
   ],
   "source": [
    "print(multiprocessing.cpu_count())"
   ]
  }
 ],
 "metadata": {
  "kernelspec": {
   "display_name": "Python 3",
   "language": "python",
   "name": "python3"
  },
  "language_info": {
   "codemirror_mode": {
    "name": "ipython",
    "version": 3
   },
   "file_extension": ".py",
   "mimetype": "text/x-python",
   "name": "python",
   "nbconvert_exporter": "python",
   "pygments_lexer": "ipython3",
   "version": "3.6.6"
  }
 },
 "nbformat": 4,
 "nbformat_minor": 2
}
